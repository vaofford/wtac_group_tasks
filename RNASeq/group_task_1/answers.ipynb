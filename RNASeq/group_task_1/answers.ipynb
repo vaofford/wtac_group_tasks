{
 "cells": [
  {
   "cell_type": "markdown",
   "metadata": {},
   "source": [
    "# Group Task 1 Answers\n",
    "\n",
    "Given an RNA-Seq experiment with a knocked out gene, you were asked to answer the following questions:\n",
    "\n",
    "  * **What is the name of the knock out gene?**\n",
    "  \n",
    "  \n",
    "  * **What influence does it have?**   \n",
    "  \n",
    "  \n",
    "  * **How did you determine those?**  \n",
    "  "
   ]
  },
  {
   "cell_type": "markdown",
   "metadata": {},
   "source": [
    "***"
   ]
  },
  {
   "cell_type": "markdown",
   "metadata": {},
   "source": [
    "## Dataset\n",
    "\n",
    "You were given the following files in order to conduct the analysis:\n",
    "\n",
    "  * Wild type sample reads in FASTQ format  \n",
    "    `WT[replicate]_[1|2].fastq.gz`  \n",
    "\n",
    "\n",
    "  * Knockout sample reads in FASTQ format  \n",
    "    `KO[replicate]_[1|2].fastq.gz`\n",
    "  \n",
    "  \n",
    "  * _P. berghi_ genome in FASTA format  \n",
    "    `PbANKA_v3.fasta`\n",
    "    \n",
    "    \n",
    "  * _P. berghi_ transcripts in FASTA format  \n",
    "    `Pb.CDS.fasta`\n",
    "    \n",
    "\n",
    "  * _P. berghi_ annotations in GFF format  \n",
    "    `PbANKA_v3.gff3.gz`\n",
    "    \n",
    "    \n",
    "  * _P. berghi_ gene descriptions in TSV format  \n",
    "    `Pb.names.txt`\n",
    "      \n",
    "    \n",
    "  * R script to run sleuth  \n",
    "    `sleuth.R`\n",
    "\n",
    "### Important questions\n",
    "\n",
    "**Can you summarise the experimental design?**\n",
    "\n",
    "The experimental design should explain what each sample represents, i.e. the conditions that were applied and how many replicates there were.  In this experiment, there are two conditions, wild type (WT) and knock out (KO), each of which has three biological replicates."
   ]
  },
  {
   "cell_type": "markdown",
   "metadata": {},
   "source": [
    "| Sample name | Condition | Replicate |\n",
    "| :-: | :-: | :-: |\n",
    "| WT | wild type | 1 |\n",
    "| WT | wild type | 2 |\n",
    "| WT | wild type | 3 |\n",
    "| KO | knock out | 1 |\n",
    "| KO | knock out | 2 |\n",
    "| KO | knock out | 3 |"
   ]
  },
  {
   "cell_type": "markdown",
   "metadata": {},
   "source": [
    "***"
   ]
  },
  {
   "cell_type": "markdown",
   "metadata": {},
   "source": [
    "## Aligning sample reads to the genome\n",
    "\n",
    "**First, we need to move into the directory containing the data.**"
   ]
  },
  {
   "cell_type": "code",
   "execution_count": null,
   "metadata": {
    "collapsed": true
   },
   "outputs": [],
   "source": [
    "cd ~/course_data/group_projects/RNASeq_1"
   ]
  },
  {
   "cell_type": "markdown",
   "metadata": {},
   "source": [
    "**Then, we need to build our HISAT2 index for the genome.**"
   ]
  },
  {
   "cell_type": "code",
   "execution_count": null,
   "metadata": {
    "collapsed": false
   },
   "outputs": [],
   "source": [
    "hisat2-build PbANKA_v3.fasta PbANKA_v3_hisat2.idx"
   ]
  },
  {
   "cell_type": "markdown",
   "metadata": {},
   "source": [
    "**Next, we can use a loop to align all of our sample files to the genome.**  \n",
    "\n",
    "_Be patient, this will take a while!_"
   ]
  },
  {
   "cell_type": "code",
   "execution_count": null,
   "metadata": {
    "collapsed": false
   },
   "outputs": [],
   "source": [
    "for fname in *_1.fastq.gz\n",
    "do\n",
    "    # Get sample name from file name\n",
    "    sample=`echo \"$fname\" | cut -d'_' -f1`\n",
    "\n",
    "    # Align sample to genome\n",
    "    echo \"Aligning sample...\"${sample}\n",
    "    hisat2 --max-intronlen 10000 -x PbANKA_v3_hisat2.idx \\\n",
    "    -1 ${sample}_1.fastq.gz -2 ${sample}_2.fastq.gz \\\n",
    "    -S ${sample}.sam\n",
    "\n",
    "    # Convert SAM to sorted BAM\n",
    "    echo \"Converting sample SAM to sorted BAM...\"${sample}\n",
    "    samtools view -b ${sample}.sam | \\\n",
    "    samtools sort -o ${sample}.sorted.bam\n",
    "\n",
    "    # Index sorted BAM\n",
    "    echo \"Indexing sample BAM...\"${sample}\n",
    "    samtools index ${sample}.sorted.bam\n",
    "done"
   ]
  },
  {
   "cell_type": "markdown",
   "metadata": {},
   "source": [
    "### Important questions\n",
    "\n",
    "**What is the overall alignment rate of each of the samples?**\n",
    "\n",
    "It is important to look at the overall alignment rate (for the genome) as this can give an idea of whether there are any issues with the experiment (e.g. contamination - like we saw in the practical)."
   ]
  },
  {
   "cell_type": "markdown",
   "metadata": {},
   "source": [
    "| Sample name | Alignment rate|\n",
    "| :-: | :-: |\n",
    "| WT1 | 97.63% |\n",
    "| WT2 | 83.60% |\n",
    "| WT3 | 97.83% |\n",
    "| KO1 | 97.33% |\n",
    "| KO2 | 89.07% |\n",
    "| KO3 | 97.35% |"
   ]
  },
  {
   "cell_type": "markdown",
   "metadata": {},
   "source": [
    "This looks good, all of the samples have a relatively similar alignment rate >80%."
   ]
  },
  {
   "cell_type": "markdown",
   "metadata": {},
   "source": [
    "***"
   ]
  },
  {
   "cell_type": "markdown",
   "metadata": {},
   "source": [
    "## Visualising the genome alignments \n",
    "\n",
    "Before you can use IGV to visualise the genome, you must first index the genome using `samtools faidx`.\n",
    "\n",
    "**Index the genome with `samtools`.**"
   ]
  },
  {
   "cell_type": "code",
   "execution_count": null,
   "metadata": {
    "collapsed": true
   },
   "outputs": [],
   "source": [
    "samtools faidx PbANKA_v3.fasta"
   ]
  },
  {
   "cell_type": "markdown",
   "metadata": {},
   "source": [
    "Once that's finished, you need to load your genome (`PbANKA_v3.fasta`), annotation (`PbANKA_v3.gff3.gz`) and sorted alignment files (`[sample].sorted.bam`) into IGV.\n",
    "\n",
    "**First, start IGV.**  "
   ]
  },
  {
   "cell_type": "code",
   "execution_count": null,
   "metadata": {
    "collapsed": false
   },
   "outputs": [],
   "source": [
    "igv.sh &"
   ]
  },
  {
   "cell_type": "markdown",
   "metadata": {},
   "source": [
    "**Load the genome file `Genomes -> Load Genome from File`**  \n",
    "\n",
    "**Load the annotation (gff) file `File -> Load from File`**   \n",
    "\n",
    "**Load the sorted sample BAM files `File -> Load from File`** \n",
    "\n",
    "**Make sure to set the alignment tracks to \"squished\" and to view reads as \"paired\".**\n",
    "\n",
    "**Type 'PBANKA_KO' in the search box and click 'Go'.**\n",
    "\n",
    "This will give you a view like the one below.  Here, we have coloured the WT coverage plots blue and the KO coverage plots red to make it a little easier to see the difference."
   ]
  },
  {
   "cell_type": "markdown",
   "metadata": {},
   "source": [
    "![images/PBANKA_KO_IGV.png](images/PBANKA_KO_IGV.png)"
   ]
  },
  {
   "cell_type": "markdown",
   "metadata": {},
   "source": [
    "**Do you notice anything unusual about any of the alignments to PBANKA_KO? Should there be any reads mapping to this knocked out gene?**\n",
    "\n",
    "Here, we've hidden the alignment tracks so that we are just looking at the coverage plots.  As this is a knock out experiment, you would typically expect to see expression of the gene of interest in the WT samples and no expression of the gene in the KO samples.\n",
    "\n",
    "In this case, we can see reads mapping to PBANKA_KO in our WT samples as expected. There appears to be a complete knock down in samples KO1 and KO2. However, reads are mapping to PBANKA_KO in the KO3 sample.  This suggests that it may have been an incomplete knock down of PBANKA_KO in KO3."
   ]
  },
  {
   "cell_type": "markdown",
   "metadata": {},
   "source": [
    "![images/PBANKA_KO_IGV_coverage.png](images/PBANKA_KO_IGV_coverage.png)"
   ]
  },
  {
   "cell_type": "markdown",
   "metadata": {},
   "source": [
    "### Important questions\n",
    "\n",
    "**Where in the genome is PBANKA_KO located?**\n",
    "\n",
    "You can get the co-ordinates of PBANKA_KO from the annotation file (`PbANKA_v3.gff3.gz`) using `grep` (first uncompressing the file with `gunzip`) or `zgrep`."
   ]
  },
  {
   "cell_type": "code",
   "execution_count": null,
   "metadata": {
    "collapsed": false
   },
   "outputs": [],
   "source": [
    "zgrep gene.*PBANKA_KO PbANKA_v3.gff3.gz"
   ]
  },
  {
   "cell_type": "markdown",
   "metadata": {},
   "source": [
    "PBANKA_KO is located on the **forward strand** of **PbANKA_14_v3** between **1416412** and **1423431**."
   ]
  },
  {
   "cell_type": "markdown",
   "metadata": {},
   "source": [
    "**How many exons does PBANKA_KO have?**\n",
    "\n",
    "In IGV, you can see that PBANKA_KO has **one exon**.  "
   ]
  },
  {
   "cell_type": "markdown",
   "metadata": {},
   "source": [
    "![images/PBANKA_KO_IGV_exon.png](images/PBANKA_KO_IGV_exon.png)"
   ]
  },
  {
   "cell_type": "markdown",
   "metadata": {},
   "source": [
    "This can be confirmed by looking for the PBANKA_KO CDS annotations the GFF file. "
   ]
  },
  {
   "cell_type": "code",
   "execution_count": null,
   "metadata": {
    "collapsed": false
   },
   "outputs": [],
   "source": [
    "zgrep CDS.*PBANKA_KO PbANKA_v3.gff3.gz"
   ]
  },
  {
   "cell_type": "markdown",
   "metadata": {},
   "source": [
    "***"
   ]
  },
  {
   "cell_type": "markdown",
   "metadata": {},
   "source": [
    "## Aligning sample reads to the transcriptome\n",
    "\n",
    "Before we can use `kallisto` to align the sample reads to the transcriptome, we first need to build a kallisto index of the transcriptome using `kallisto index`.\n",
    "\n",
    "**Build a Kallisto index of the tanscriptome (`Pb.CDS.fasta`) using `kallisto`.**"
   ]
  },
  {
   "cell_type": "code",
   "execution_count": null,
   "metadata": {
    "collapsed": false
   },
   "outputs": [],
   "source": [
    "kallisto index -i Pb.CDS.kallisto Pb.CDS.fasta"
   ]
  },
  {
   "cell_type": "markdown",
   "metadata": {},
   "source": [
    "As with the genome alignments, we can run the transcriptome alignments for all the samples using a loop.\n",
    "\n",
    "**Align your samples to the transcriptome using `kallisto quant`.**"
   ]
  },
  {
   "cell_type": "code",
   "execution_count": null,
   "metadata": {
    "collapsed": false
   },
   "outputs": [],
   "source": [
    "for fname in *_1.fastq.gz\n",
    "do\n",
    "    # Get sample name from file name\n",
    "    sample=`echo \"$fname\" | cut -d'_' -f1`\n",
    "    \n",
    "    # Quantify transcript expression in sample\n",
    "    echo \"kallisto quantification for sample...\"${sample}\n",
    "    kallisto quant -i Pb.CDS.kallisto -o ${sample} -b 100 \\\n",
    "    ${sample}_1.fastq.gz ${sample}_2.fastq.gz\n",
    "done"
   ]
  },
  {
   "cell_type": "markdown",
   "metadata": {},
   "source": [
    "### Important questions\n",
    "\n",
    "**How many transcripts are there?**\n",
    "\n",
    "There are **5077** transcripts."
   ]
  },
  {
   "cell_type": "code",
   "execution_count": null,
   "metadata": {
    "collapsed": true
   },
   "outputs": [],
   "source": [
    " grep -c '>' Pb.CDS.fasta"
   ]
  },
  {
   "cell_type": "markdown",
   "metadata": {},
   "source": [
    "***"
   ]
  },
  {
   "cell_type": "markdown",
   "metadata": {},
   "source": [
    "## Run DE analysis in sleuth\n",
    "\n",
    "To identify differentially expressed genes you can use the R package, `sleuth`.  \n",
    "\n",
    "**Run the sleuth R script (`sleuth.R`).**"
   ]
  },
  {
   "cell_type": "code",
   "execution_count": null,
   "metadata": {
    "collapsed": false
   },
   "outputs": [],
   "source": [
    "Rscript sleuth.R"
   ]
  },
  {
   "cell_type": "markdown",
   "metadata": {},
   "source": [
    "This should give you an error which contains:\n",
    "\n",
    "    cannot open file 'hiseq_info.txt': No such file or directory\n",
    "    \n",
    "**So, let's take a look at the R script and see what's going on.**"
   ]
  },
  {
   "cell_type": "code",
   "execution_count": null,
   "metadata": {
    "collapsed": false
   },
   "outputs": [],
   "source": [
    "cat sleuth.R"
   ]
  },
  {
   "cell_type": "markdown",
   "metadata": {},
   "source": [
    "Look at the second line:\n",
    "\n",
    "    s2c <- read.table(\"hiseq_info.txt\", header = TRUE, stringsAsFactors=FALSE)\n",
    "    \n",
    "The script is looking for a file called `hiseq_info.txt`.  \n",
    "\n",
    "**Let's see if the file has been given to you.**"
   ]
  },
  {
   "cell_type": "code",
   "execution_count": null,
   "metadata": {
    "collapsed": false
   },
   "outputs": [],
   "source": [
    "ls hiseq_info.txt"
   ]
  },
  {
   "cell_type": "markdown",
   "metadata": {},
   "source": [
    "Nope.  Well...we did warn you that some files might be missing! But, that still doesn't tell us what the `hiseq_info.txt` file contains...\n",
    "\n",
    "**Let's take a look at the one we used in the practical.**"
   ]
  },
  {
   "cell_type": "code",
   "execution_count": null,
   "metadata": {
    "collapsed": false
   },
   "outputs": [],
   "source": [
    "cat ~/pathogen-informatics-training/Notebooks/RNA-Seq/data/hiseq_info.txt"
   ]
  },
  {
   "cell_type": "markdown",
   "metadata": {},
   "source": [
    "So, it looks like this file indicates which condition was applied to each of the samples.\n",
    "\n",
    "**Copy the file from the practical into the same directory as your sleuth R script.**"
   ]
  },
  {
   "cell_type": "code",
   "execution_count": null,
   "metadata": {
    "collapsed": true
   },
   "outputs": [],
   "source": [
    "cp ~/pathogen-informatics-training/Notebooks/RNA-Seq/data/hiseq_info.txt ."
   ]
  },
  {
   "cell_type": "markdown",
   "metadata": {},
   "source": [
    "**Let's check that worked.**"
   ]
  },
  {
   "cell_type": "code",
   "execution_count": null,
   "metadata": {
    "collapsed": false
   },
   "outputs": [],
   "source": [
    "cat hiseq_info.txt"
   ]
  },
  {
   "cell_type": "markdown",
   "metadata": {},
   "source": [
    "Good, now let's update this file so it contains our sample names.\n",
    "\n",
    "**You can edit the file manually by typing the following `nano` command in your terminal. Be careful which order you put the samples in.**"
   ]
  },
  {
   "cell_type": "code",
   "execution_count": null,
   "metadata": {
    "collapsed": false
   },
   "outputs": [],
   "source": [
    "nano ~/course_data/group_projects/RNASeq_1/hiseq_info.txt"
   ]
  },
  {
   "cell_type": "markdown",
   "metadata": {},
   "source": [
    "**Alternatively, you can make the edits using `sed`.**"
   ]
  },
  {
   "cell_type": "code",
   "execution_count": null,
   "metadata": {
    "collapsed": true
   },
   "outputs": [],
   "source": [
    "sed -i -e 's/MT/WT/g' hiseq_info.txt\n",
    "sed -i -e 's/SBP/KO/g' hiseq_info.txt\n",
    "sed -ie '/^WT2/a WT3\\tWT' hiseq_info.txt"
   ]
  },
  {
   "cell_type": "markdown",
   "metadata": {},
   "source": [
    "**And, check that it's worked.**"
   ]
  },
  {
   "cell_type": "code",
   "execution_count": null,
   "metadata": {
    "collapsed": false
   },
   "outputs": [],
   "source": [
    "cat hiseq_info.txt"
   ]
  },
  {
   "cell_type": "markdown",
   "metadata": {},
   "source": [
    "Perfect, our six samples are now in the file.\n",
    "\n",
    "**So, let's try running that R script again.**"
   ]
  },
  {
   "cell_type": "code",
   "execution_count": null,
   "metadata": {
    "collapsed": false
   },
   "outputs": [],
   "source": [
    "Rscript sleuth.R"
   ]
  },
  {
   "cell_type": "markdown",
   "metadata": {},
   "source": [
    "**Click [http://127.0.0.1:42427](http://127.0.0.1:42427) to open the sleuth results in your web browser.**"
   ]
  },
  {
   "cell_type": "markdown",
   "metadata": {},
   "source": [
    "### Important questions\n",
    "\n",
    "**Can you summarise the data that's been processed (i.e. number of reads processed and the proportion of reads mapping to the genome and transcriptome)?**\n",
    "\n",
    "You can get a summary of the processed data by going to `summaries -> processed data`. "
   ]
  },
  {
   "cell_type": "markdown",
   "metadata": {},
   "source": [
    "![images/kallisto_processed_data.png](images/kallisto_processed_data.png)"
   ]
  },
  {
   "cell_type": "markdown",
   "metadata": {},
   "source": [
    "**Looking at the PCA plot (`maps -> PCA`) do you think the samples form tight, distinct clusters based on the condition (WT or KO) that was applied?**\n",
    "\n",
    "Not really.  There is a vertical split between the WT and the KO samples.  However, KO3 is reasonably close to the WT samples because of the incomplete knock out, which prevents tighter clustering."
   ]
  },
  {
   "cell_type": "markdown",
   "metadata": {},
   "source": [
    "![images/sleuth_original_pca.png](images/sleuth_original_pca.png)"
   ]
  },
  {
   "cell_type": "markdown",
   "metadata": {},
   "source": [
    "You can also look at the proportion of variance explained by each principal component (PC). As this is a single factor experiment, we would expect that if there were variation, most of this would be explained by the first principal component, PC1. Broadly speaking, this represents the variation resulting from the difference in condition (WT vs KO).\n",
    "\n",
    "You can see here that >75% of the variance is explained by PC1 (the vertical axis of the PCA plot above). However, there's 15-20% of the variance which is explained by the second principal component. It's possible this is linked to the replicate number and, if you were particularly worried about it, can be accounted for in downstream analyses."
   ]
  },
  {
   "cell_type": "markdown",
   "metadata": {},
   "source": [
    "![images/sleuth_original_pca_bar.png](images/sleuth_original_pca_bar.png)"
   ]
  },
  {
   "cell_type": "markdown",
   "metadata": {},
   "source": [
    "If you were to rerun the analysis with KO3 removed, the PCA plot does become a little clearer."
   ]
  },
  {
   "cell_type": "markdown",
   "metadata": {},
   "source": [
    "![images/sleuth_processed_pca.png](images/sleuth_processed_pca.png)"
   ]
  },
  {
   "cell_type": "markdown",
   "metadata": {},
   "source": [
    "**Was PBANKA_KO differentially expressed?**\n",
    "\n",
    "**Yes** as it's significantly (q-value < 0.05) more highly expressed (b > 0) in the WT samples. \n",
    "\n",
    "For this, you need to go to `analyses -> test table` and enter PBANKA_KO in the search box."
   ]
  },
  {
   "cell_type": "markdown",
   "metadata": {},
   "source": [
    "![images/sleuth_test_table.png](images/sleuth_test_table.png)"
   ]
  },
  {
   "cell_type": "markdown",
   "metadata": {},
   "source": [
    "**Is there anything unusual about the PBANKA_KO expression levels in any of the samples?**\n",
    "\n",
    "You'll already have seen an indication of this in the genome alignments. It seems there is partial expression of PBANKA_KO in KO3.\n",
    "\n",
    "You can look at the expression profiles by going to `analyses -> transcript view` and typing PBANKA_KO in the search box."
   ]
  },
  {
   "cell_type": "markdown",
   "metadata": {},
   "source": [
    "![images/sleuth_transcript_view.png](images/sleuth_transcript_view.png)"
   ]
  },
  {
   "cell_type": "markdown",
   "metadata": {},
   "source": [
    "**How many genes are more highly expressed in the WT samples than in the KO samples?**\n",
    "\n",
    "**299**"
   ]
  },
  {
   "cell_type": "code",
   "execution_count": null,
   "metadata": {
    "collapsed": true
   },
   "outputs": [],
   "source": [
    "awk -F'\\t' '$4 < 0.01 && $5 > 0' kallisto.results | wc -l"
   ]
  },
  {
   "cell_type": "markdown",
   "metadata": {},
   "source": [
    "**Can you identify which 10 genes are most upregulated in the WT samples?**"
   ]
  },
  {
   "cell_type": "code",
   "execution_count": null,
   "metadata": {
    "collapsed": true
   },
   "outputs": [],
   "source": [
    "awk -F'\\t' '$4 < 0.01 && $5 > 0  {OFS=\"\\t\"; print $1,$2,$4,$5}' \\\n",
    "kallisto.results | sort -t$'\\t' -k4 -nr | head"
   ]
  },
  {
   "cell_type": "markdown",
   "metadata": {},
   "source": [
    "**How many genes are more highly expressed in the KO samples than in the WT samples?**\n",
    "\n",
    "**410**"
   ]
  },
  {
   "cell_type": "code",
   "execution_count": null,
   "metadata": {
    "collapsed": true
   },
   "outputs": [],
   "source": [
    "awk -F'\\t' '$4 < 0.01 && $5 < 0' kallisto.results | wc -l"
   ]
  },
  {
   "cell_type": "markdown",
   "metadata": {},
   "source": [
    "**Can you identify which 10 genes are most upregulated in the WT samples?**"
   ]
  },
  {
   "cell_type": "code",
   "execution_count": null,
   "metadata": {
    "collapsed": true
   },
   "outputs": [],
   "source": [
    "awk -F'\\t' '$4 < 0.01 && $5 < 0  {OFS=\"\\t\"; print $1,$2,$4,$5}' \\\n",
    "kallisto.results | sort -t$'\\t' -k4 -nr | head"
   ]
  },
  {
   "cell_type": "markdown",
   "metadata": {},
   "source": [
    "**Write the gene IDs of the significantly differentially expressed genes to files for the next part of the analysis.**"
   ]
  },
  {
   "cell_type": "code",
   "execution_count": null,
   "metadata": {
    "collapsed": true
   },
   "outputs": [],
   "source": [
    "awk -F'\\t' '$4 < 0.01 && $5 > 0  {print $1}' \\\n",
    "kallisto.results > kallisto.WT.sig.genes"
   ]
  },
  {
   "cell_type": "code",
   "execution_count": null,
   "metadata": {
    "collapsed": true
   },
   "outputs": [],
   "source": [
    "awk -F'\\t' '$4 < 0.01 && $5 < 0  {print $1}' \\\n",
    "kallisto.results > kallisto.KO.sig.genes"
   ]
  },
  {
   "cell_type": "markdown",
   "metadata": {},
   "source": [
    "***"
   ]
  },
  {
   "cell_type": "markdown",
   "metadata": {},
   "source": [
    "## GO term enrichment analysis\n",
    "\n",
    "Gene ontology (GO) terms are a dictionary which can be used to assign functions to a gene or transcript. You can use [http://www.plasmodb.org](http://www.plasmodb.org) to perform a GO term enrichment analysis (i.e. which terms are significantly more abundant in your differentially expressed genes than in all of the genes as a whole).\n",
    "\n",
    "**Go to [http://www.plasmodb.org](http://www.plasmodb.org) in your web browser.**\n",
    "\n",
    "**Go to `My Strategies -> New`.**\n",
    "\n",
    "**Go to `Annotation, curation and identifiers -> Gene IDs`.**\n",
    "\n",
    "**Upload your file of gene IDs that were more highly expressed in the WT samples.**\n",
    "\n",
    "**Go to `Analyse results` (blue button) and `GO enrichment`.**\n",
    "\n",
    "**You want to do a GO analysis using the biological processes (BP).** \n",
    "\n",
    "### Important questions\n",
    "\n",
    "**Which GO terms (biological processes) are enriched in genes with higher expression in the WT samples?**\n",
    "\n",
    "You can get this from the table that the analysis generates. You could say that broadly speaking that this gene is involved in the regulation of motility, adhesion and the cell cycle."
   ]
  },
  {
   "cell_type": "markdown",
   "metadata": {},
   "source": [
    "![images/WT_BP_table.png](images/WT_BP_table.png)"
   ]
  },
  {
   "cell_type": "markdown",
   "metadata": {},
   "source": [
    "You can also use some of the other output options to find interesting ways of displaying this data."
   ]
  },
  {
   "cell_type": "markdown",
   "metadata": {},
   "source": [
    "![images/WT_BP_words.png](images/WT_BP_words.png)"
   ]
  },
  {
   "cell_type": "markdown",
   "metadata": {},
   "source": [
    "**Which GO terms (biological processes) are enriched in genes with higher expression in the KO samples?**"
   ]
  },
  {
   "cell_type": "markdown",
   "metadata": {},
   "source": [
    "You'll need to run the same analysis with your KO file and look at the results table. It looks like there are changes in ribosomal processes."
   ]
  },
  {
   "cell_type": "markdown",
   "metadata": {},
   "source": [
    "![images/KO_BP_table.png](images/KO_BP_table.png)"
   ]
  },
  {
   "cell_type": "markdown",
   "metadata": {},
   "source": [
    "And again, there are several useful ways to visualise your results."
   ]
  },
  {
   "cell_type": "markdown",
   "metadata": {},
   "source": [
    "![images/KO_BP_words.png](images/KO_BP_words.png)"
   ]
  },
  {
   "cell_type": "markdown",
   "metadata": {},
   "source": [
    "***"
   ]
  },
  {
   "cell_type": "markdown",
   "metadata": {},
   "source": [
    "## What is PBANKA_KO?\n",
    "\n",
    "So, we've seen the influences of the knock out gene, but what is it? \n",
    "\n",
    "For this group task, we removed the real name of PBANKA_KO from all of the files we gave you. How mean! To get the real name of PBANKA_KO, we need the real genome annotation file.\n",
    "\n",
    "**Download the real annotation file from the FTP site (`Pberghei.gff3.gz`).**"
   ]
  },
  {
   "cell_type": "code",
   "execution_count": null,
   "metadata": {
    "collapsed": false
   },
   "outputs": [],
   "source": [
    "wget ftp://ftp.sanger.ac.uk/pub/project/pathogens/gff3/CURRENT/Pberghei.gff3.gz"
   ]
  },
  {
   "cell_type": "markdown",
   "metadata": {},
   "source": [
    "Now, earlier on, you will have jotted down the location of PBANKA_KO in the genome.\n",
    "\n",
    "**Search for a gene with the same co-ordinates as PBANKA_KO in the reall annotation file.**"
   ]
  },
  {
   "cell_type": "code",
   "execution_count": null,
   "metadata": {
    "collapsed": false
   },
   "outputs": [],
   "source": [
    "zgrep \"PbANKA_14_v3.*gene.*1416412.*1423431\" Pberghei.gff3.gz"
   ]
  },
  {
   "cell_type": "markdown",
   "metadata": {},
   "source": [
    "Looks like PBANKA_KO is really **PBANKA_1437500**, better known as **AP2-G**, in disguise!\n",
    "\n",
    "Looking into the literature, you will find that AP2-G encodes a transcription factor and plays a role in gametocyte development (gametogenesis). Thus, it makes sense that knocking out this gene will result in differential expression of genes involved in cell structure, cycle and motility."
   ]
  }
 ],
 "metadata": {
  "anaconda-cloud": {},
  "kernelspec": {
   "display_name": "Bash",
   "language": "bash",
   "name": "bash"
  },
  "language_info": {
   "codemirror_mode": "shell",
   "file_extension": ".sh",
   "mimetype": "text/x-sh",
   "name": "bash"
  }
 },
 "nbformat": 4,
 "nbformat_minor": 2
}
